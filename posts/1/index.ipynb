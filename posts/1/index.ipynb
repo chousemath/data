{
 "cells": [
  {
   "cell_type": "code",
   "execution_count": 2,
   "metadata": {
    "collapsed": true
   },
   "outputs": [],
   "source": [
    "import numpy as np"
   ]
  },
  {
   "cell_type": "markdown",
   "metadata": {},
   "source": [
    "[Tutorial 1](https://www.youtube.com/watch?v=rN0TREj8G7U&list=PLeo1K3hjS3uset9zIVzJWqplaWBiacTEU)"
   ]
  },
  {
   "cell_type": "markdown",
   "metadata": {},
   "source": [
    "**Here are a few things you can do with Numpy arrays**"
   ]
  },
  {
   "cell_type": "code",
   "execution_count": 17,
   "metadata": {
    "collapsed": false
   },
   "outputs": [
    {
     "name": "stdout",
     "output_type": "stream",
     "text": [
      "Manual matrix creation: [1 2 3]\n",
      "Define matrix with upper bound: [0 1 2 3 4 5 6 7 8 9]\n",
      "Define matrix with lower/upper bounds: [10 11 12 13 14]\n",
      "Matrix addition: [0 1 2 3 4] + [0 1 2 3 4] = [0 2 4 6 8], a 1-dimensional array\n",
      "Matrix subtraction: [20 21 22 23 24] - [0 1 2 3 4] = [20 20 20 20 20], should also be a 1-dimensional array\n",
      "Scalar multiplication of matrix: 10 * [12 13 14 15 16 17] = [120 130 140 150 160 170], has 6 elements!\n",
      "Scalar division as well: [1 2 3 4] / 2 = [ 0.5  1.   1.5  2. ], has 4 elements in it!\n",
      "[2 2 2 2 2] has 5 rows\n",
      "Matrix multiplication: [5 6 7 8 9] * [2 2 2 2 2] = [10 12 14 16 18]\n",
      "Matrix division: [0 2 4 6 8] / [2 2 2 2 2] = [ 0.  1.  2.  3.  4.]\n",
      "Multiple operations: 2 * [0 1 2 3 4] * [10 10 10 10 10] = [ 0 20 40 60 80], a 1-dimensional array\n",
      "here is a 2 x 2 matrix of 4 elements, \n",
      "[[10 10]\n",
      " [10 10]]\n",
      "also, here is a 5 x 10 matrix of 50 elements,\n",
      "[[ 0  2  4  6  8 10 12 14 16 18]\n",
      " [20 22 24 26 28 30 32 34 36 38]\n",
      " [40 42 44 46 48 50 52 54 56 58]\n",
      " [60 62 64 66 68 70 72 74 76 78]\n",
      " [80 82 84 86 88 90 92 94 96 98]]\n",
      "\n",
      "**a 10 x 10 matrix**\n",
      "[[ 0  1  2  3  4  5  6  7  8  9]\n",
      " [10 11 12 13 14 15 16 17 18 19]\n",
      " [20 21 22 23 24 25 26 27 28 29]\n",
      " [30 31 32 33 34 35 36 37 38 39]\n",
      " [40 41 42 43 44 45 46 47 48 49]\n",
      " [50 51 52 53 54 55 56 57 58 59]\n",
      " [60 61 62 63 64 65 66 67 68 69]\n",
      " [70 71 72 73 74 75 76 77 78 79]\n",
      " [80 81 82 83 84 85 86 87 88 89]\n",
      " [90 91 92 93 94 95 96 97 98 99]]\n",
      "has 100 elements, when multiplied by scalar 100 becomes\n",
      "[[   0  100  200  300  400  500  600  700  800  900]\n",
      " [1000 1100 1200 1300 1400 1500 1600 1700 1800 1900]\n",
      " [2000 2100 2200 2300 2400 2500 2600 2700 2800 2900]\n",
      " [3000 3100 3200 3300 3400 3500 3600 3700 3800 3900]\n",
      " [4000 4100 4200 4300 4400 4500 4600 4700 4800 4900]\n",
      " [5000 5100 5200 5300 5400 5500 5600 5700 5800 5900]\n",
      " [6000 6100 6200 6300 6400 6500 6600 6700 6800 6900]\n",
      " [7000 7100 7200 7300 7400 7500 7600 7700 7800 7900]\n",
      " [8000 8100 8200 8300 8400 8500 8600 8700 8800 8900]\n",
      " [9000 9100 9200 9300 9400 9500 9600 9700 9800 9900]]\n",
      "\n",
      "if A =\n",
      "[[1 2]\n",
      " [3 4]]\n",
      "and B =\n",
      "[[5 6]\n",
      " [7 9]]\n",
      ", A*B =\n",
      "[[ 5 12]\n",
      " [21 36]]\n",
      "and B*A=\n",
      "[[ 5 12]\n",
      " [21 36]]\n"
     ]
    }
   ],
   "source": [
    "print(\"Manual matrix creation: {}\".format(np.array([1,2,3]))) # I suppose this is a vector\n",
    "print(\"Define matrix with upper bound: {}\".format(np.arange(10))) # upper limit is non-inclusive\n",
    "print(\"Define matrix with lower/upper bounds: {}\".format(np.arange(10, 15))) # define lower limit/upper limit\n",
    "a = np.arange(5)\n",
    "print(\"Matrix addition: {} + {} = {}, a {}-dimensional array\".format(a, a, a+a, (a+a).ndim)) # matrix addition works as expected...\n",
    "b = np.arange(20, 25)\n",
    "c = np.arange(5)\n",
    "print(\"Matrix subtraction: {} - {} = {}, should also be a {}-dimensional array\".format(b, c, b-c, (b-c).ndim)) # matrix subtraction works as expected...\n",
    "d = np.arange(12, 18)\n",
    "print(\"Scalar multiplication of matrix: {} * {} = {}, has {} elements!\".format(10, d, 10*d, (10*d).size)) # scalar multiplication good to go!\n",
    "e = np.arange(1, 5)\n",
    "print(\"Scalar division as well: {} / {} = {}, has {} elements in it!\".format(e, 2, e/2, (e/2).size))\n",
    "f = np.arange(5, 10)\n",
    "g = np.full((1, 5), 2)[0] # creates a 1x5 matrix, all of value 2\n",
    "g_shape = g.shape\n",
    "print(\"{} has {} rows\".format(g, g_shape[0]))\n",
    "print(\"Matrix multiplication: {} * {} = {}\".format(f, g, f*g))\n",
    "h = np.arange(0, 10, 2) # you can also specify the interval for arange\n",
    "i = np.full((1, 5), 2)[0]\n",
    "print(\"Matrix division: {} / {} = {}\".format(h, i, h/i))\n",
    "j = np.arange(5)\n",
    "k = np.full((1, 5), 10)[0]\n",
    "print(\"Multiple operations: {} * {} * {} = {}, a {}-dimensional array\".format(2, j, k, 2*j*k, (2*j*k).ndim))\n",
    "l = np.full((2, 2), 10)\n",
    "l_shape = l.shape\n",
    "print(\"here is a {} x {} matrix of {} elements, \\n{}\".format(l_shape[0], l_shape[1], l.size, l))\n",
    "m = np.arange(0, 100, 2).reshape(5, 10)\n",
    "m_shape = m.shape\n",
    "print(\"also, here is a {} x {} matrix of {} elements,\\n{}\".format(m_shape[0], m_shape[1], m.size, m))\n",
    "n = np.arange(100).reshape(10, 10)\n",
    "n_shape = n.shape\n",
    "print(\"\\n**a {} x {} matrix**\\n{}\\nhas {} elements, when multiplied by scalar {} becomes\\n{}\".format(n_shape[0], n_shape[1], n, n.size, 100, 100*n))\n",
    "o = np.array([[1, 2], [3, 4]])\n",
    "p = np.array([[5, 6], [7, 9]])\n",
    "print(\"\\nif A =\\n{}\\nand B =\\n{}\\n, A*B =\\n{}\\nand B*A=\\n{}\".format(o, p, o*p, p*o))"
   ]
  },
  {
   "cell_type": "code",
   "execution_count": null,
   "metadata": {
    "collapsed": true
   },
   "outputs": [],
   "source": []
  }
 ],
 "metadata": {
  "anaconda-cloud": {},
  "kernelspec": {
   "display_name": "Python [conda root]",
   "language": "python",
   "name": "conda-root-py"
  },
  "language_info": {
   "codemirror_mode": {
    "name": "ipython",
    "version": 3
   },
   "file_extension": ".py",
   "mimetype": "text/x-python",
   "name": "python",
   "nbconvert_exporter": "python",
   "pygments_lexer": "ipython3",
   "version": "3.5.3"
  }
 },
 "nbformat": 4,
 "nbformat_minor": 1
}
