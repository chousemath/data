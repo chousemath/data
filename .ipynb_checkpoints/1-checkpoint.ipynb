{
 "cells": [
  {
   "cell_type": "code",
   "execution_count": 3,
   "metadata": {
    "collapsed": true
   },
   "outputs": [],
   "source": [
    "import numpy as np"
   ]
  },
  {
   "cell_type": "markdown",
   "metadata": {},
   "source": [
    "[Tutorial 1](https://www.youtube.com/watch?v=rN0TREj8G7U&list=PLeo1K3hjS3uset9zIVzJWqplaWBiacTEU)"
   ]
  },
  {
   "cell_type": "markdown",
   "metadata": {},
   "source": [
    "**Here are a few ways you can create Numpy arrays**"
   ]
  },
  {
   "cell_type": "code",
   "execution_count": 33,
   "metadata": {
    "collapsed": false
   },
   "outputs": [
    {
     "name": "stdout",
     "output_type": "stream",
     "text": [
      "Manual matrix creation: [1 2 3]\n",
      "Define matrix with upper bound: [0 1 2 3 4 5 6 7 8 9]\n",
      "Define matrix with lower/upper bounds: [10 11 12 13 14]\n",
      "Matrix addition: [0 1 2 3 4] + [0 1 2 3 4] = [0 2 4 6 8]\n",
      "Matrix subtraction: [20 21 22 23 24] - [0 1 2 3 4] = [20 20 20 20 20]\n",
      "Scalar multiplication of matrix: 10 * [12 13 14 15 16 17] = [120 130 140 150 160 170]\n"
     ]
    }
   ],
   "source": [
    "print(\"Manual matrix creation: {}\".format(np.array([1,2,3]))) # I suppose this is a vector\n",
    "print(\"Define matrix with upper bound: {}\".format(np.arange(10))) # upper limit is non-inclusive\n",
    "print(\"Define matrix with lower/upper bounds: {}\".format(np.arange(10, 15))) # define lower limit/upper limit\n",
    "a = np.arange(5)\n",
    "print(\"Matrix addition: {} + {} = {}\".format(a, a, a + a)) # matrix addition works as expected...\n",
    "b = np.arange(20, 25)\n",
    "c = np.arange(5)\n",
    "print(\"Matrix subtraction: {} - {} = {}\".format(b, c, b - c)) # matrix subtraction works as expected...\n",
    "d = np.arange(12, 18)\n",
    "print(\"Scalar multiplication of matrix: {} * {} = {}\".format(10, d, 10 * d)) # scalar multiplication good to go!"
   ]
  }
 ],
 "metadata": {
  "anaconda-cloud": {},
  "kernelspec": {
   "display_name": "Python [conda root]",
   "language": "python",
   "name": "conda-root-py"
  },
  "language_info": {
   "codemirror_mode": {
    "name": "ipython",
    "version": 3
   },
   "file_extension": ".py",
   "mimetype": "text/x-python",
   "name": "python",
   "nbconvert_exporter": "python",
   "pygments_lexer": "ipython3",
   "version": "3.5.3"
  }
 },
 "nbformat": 4,
 "nbformat_minor": 1
}
